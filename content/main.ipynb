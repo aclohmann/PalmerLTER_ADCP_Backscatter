{
 "cells": [
  {
   "cell_type": "markdown",
   "id": "a40cd06d-056f-4ed8-abc0-92fe4e8f959a",
   "metadata": {},
   "source": [
    "### **NOTE: JupyterLite may not function correctly on non-Chromium browsers.** (Chromium browsers include Chrome & Edge, but not Firefox.)\n",
    "JupyterLite can be a bit finnicky, so there's a demo video [here](http://google.com) if it won't load!\n",
    "\n",
    "## ADCP echo intensity along Palmer LTER cruise paths"
   ]
  },
  {
   "cell_type": "code",
   "execution_count": null,
   "id": "c0743b6d-7e39-4b21-a2e4-571688e3eded",
   "metadata": {},
   "outputs": [],
   "source": [
    "%pip install -q nbformat\n",
    "%pip install -q jdcal\n",
    "%pip install -q geopy\n",
    "%pip install -q ipywidgets\n",
    "%pip install -q ipyleaflet\n",
    "%pip install -q ipyevents\n",
    "import micropip\n",
    "await micropip.install(\"matplotlib\")\n",
    "await micropip.install(\"pandas\")\n",
    "%run './map-helper-functions.ipynb'\n",
    "%run './map.ipynb'\n",
    "adcp_map()"
   ]
  }
 ],
 "metadata": {
  "kernelspec": {
   "display_name": "venv-adcp",
   "language": "python",
   "name": "venv-adcp"
  },
  "language_info": {
   "codemirror_mode": {
    "name": "ipython",
    "version": 3
   },
   "file_extension": ".py",
   "mimetype": "text/x-python",
   "name": "python",
   "nbconvert_exporter": "python",
   "pygments_lexer": "ipython3",
   "version": "3.10.9"
  }
 },
 "nbformat": 4,
 "nbformat_minor": 5
}
